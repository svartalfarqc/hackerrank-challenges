{
 "cells": [
  {
   "cell_type": "markdown",
   "metadata": {},
   "source": [
    "# Problem"
   ]
  },
  {
   "cell_type": "markdown",
   "metadata": {},
   "source": [
    "# How to approach this topic\n",
    "From https://www.hackerrank.com/contests/intro-to-statistics/challenges/time-series-prediction/resources"
   ]
  },
  {
   "cell_type": "markdown",
   "metadata": {},
   "source": [
    "Here are some approaches for predicting the time series: \n",
    "\n",
    "\n",
    "Periodic Cycles in the Data \n",
    "Think in terms of periodicity of the waveform of the data. There are two cycles. The first one is the cycle over the week. It is generally a hump, lowest on the weekends, and reaching a peak on Tuesday or Wednesday. \n",
    "\n",
    "\n",
    "Fourier Series Based Solution This involves using the fast fourier transform (FFT) available in numpy, if you're using Python. The idea is to transform the data into the frequency domain and then obtain a polynomial to obtain the next 30 values in the series. This discussion on Stackoverflow might help you understand and implement this approach. \n",
    "\n",
    "\n",
    "AutoRegressive Integrated Moving Averages This is the ARIMA Model popularly used for predicting time series involving a forecasting equation based on a linear (regression-style) equation. This is a useful slide deck about time series methods in Python. You may use the \"arma_generate_sample\" from \"statsmodels.tsa.arima_process\". \n",
    "\n",
    "\n",
    "Series Based Approaches \n",
    "This might not be as effective as more complex statistical methods. It simply estimates the week to week percentage change over the last couple of weeks. Then, it repeats the last 30 datapoints of the input data, multiplied by the percentage increase computed on a week to week basis."
   ]
  },
  {
   "cell_type": "code",
   "execution_count": null,
   "metadata": {},
   "outputs": [],
   "source": []
  }
 ],
 "metadata": {
  "kernelspec": {
   "display_name": "Python 3",
   "language": "python",
   "name": "python3"
  },
  "language_info": {
   "codemirror_mode": {
    "name": "ipython",
    "version": 3
   },
   "file_extension": ".py",
   "mimetype": "text/x-python",
   "name": "python",
   "nbconvert_exporter": "python",
   "pygments_lexer": "ipython3",
   "version": "3.6.4"
  }
 },
 "nbformat": 4,
 "nbformat_minor": 2
}
