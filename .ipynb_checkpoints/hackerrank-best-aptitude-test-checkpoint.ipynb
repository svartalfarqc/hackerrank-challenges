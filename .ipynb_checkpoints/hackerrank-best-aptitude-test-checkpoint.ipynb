{
 "cells": [
  {
   "cell_type": "code",
   "execution_count": null,
   "metadata": {},
   "outputs": [],
   "source": [
    "import numpy as np\n",
    "import math\n",
    "\n",
    "# correlation function found here:\n",
    "# https://github.com/nishant-sethi/HackerRank/blob/master/Artificial%20Intelligence/Statistics%20and%20machine%20learning/The%20Best%20Aptitude%20Test.py\n",
    "def corr(x, y):\n",
    "    SS = lambda x,y:(sum([i*j for (i,j) in zip(x,y)])-(sum(x)*sum(y))/len(x))\n",
    "    try:\n",
    "        #computing correlation as per the formula mentioned above\n",
    "        correlation = SS(x, y)/math.sqrt(abs(SS(x,x)*SS(y,y)))\n",
    "    except:\n",
    "        correlation = 0\n",
    "    return correlation \n",
    "\n",
    "T = int(input())\n",
    "\n",
    "for t in range(T):\n",
    "    N = int(input())\n",
    "    gpa = [float(i) for i in input().strip().split()]\n",
    "\n",
    "    correlations = []\n",
    "    for i in range(5):\n",
    "        grades = [float(i) for i in input().strip().split()]\n",
    "        correlations.append(corr(gpa,grades))\n",
    "\n",
    "    \n",
    "    print(str(np.argmax(correlations) + 1))"
   ]
  },
  {
   "cell_type": "code",
   "execution_count": null,
   "metadata": {},
   "outputs": [],
   "source": []
  }
 ],
 "metadata": {
  "kernelspec": {
   "display_name": "Python 3",
   "language": "python",
   "name": "python3"
  },
  "language_info": {
   "codemirror_mode": {
    "name": "ipython",
    "version": 3
   },
   "file_extension": ".py",
   "mimetype": "text/x-python",
   "name": "python",
   "nbconvert_exporter": "python",
   "pygments_lexer": "ipython3",
   "version": "3.6.4"
  }
 },
 "nbformat": 4,
 "nbformat_minor": 2
}
